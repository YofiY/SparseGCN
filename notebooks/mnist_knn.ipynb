{
 "cells": [
  {
   "cell_type": "markdown",
   "metadata": {},
   "source": [
    "# MNIST KNN Graph"
   ]
  },
  {
   "cell_type": "code",
   "execution_count": 2,
   "metadata": {},
   "outputs": [],
   "source": [
    "import argparse\n",
    "import os.path as osp\n",
    "import random\n",
    "import time\n",
    "\n",
    "import graphlearning as gl\n",
    "import numpy as np\n",
    "import pygsp\n",
    "import rustworkx as rwx\n",
    "import torch\n",
    "import torch.nn.functional as F\n",
    "import torch_geometric.transforms as T\n",
    "import pandas as pd \n",
    "import os\n",
    "\n",
    "from torch_geometric.data import Data\n",
    "from torch_geometric.datasets import Planetoid\n",
    "from torch_geometric.logging import log\n",
    "from torch_geometric.nn import GCNConv\n",
    "import sys\n",
    "sys.path.append(os.path.abspath(os.path.join('..')))\n",
    "from src import get_num_edges_from_adj_matrix, generate_train_and_test_mask, GCN, eval_model, spectral_sparsify\n"
   ]
  },
  {
   "cell_type": "code",
   "execution_count": 3,
   "metadata": {},
   "outputs": [],
   "source": [
    "if torch.cuda.is_available():\n",
    "    device = torch.device(\"cuda\")\n",
    "elif hasattr(torch.backends, \"mps\") and torch.backends.mps.is_available():\n",
    "    device = torch.device(\"mps\")\n",
    "else:\n",
    "    device = torch.device(\"cpu\")"
   ]
  },
  {
   "cell_type": "markdown",
   "metadata": {},
   "source": [
    "## Loading the dataset"
   ]
  },
  {
   "cell_type": "code",
   "execution_count": 4,
   "metadata": {},
   "outputs": [
    {
     "name": "stdout",
     "output_type": "stream",
     "text": [
      "Benchmarking: mnist dataset\n",
      "    > 784 features\n",
      "    > 10 classes\n"
     ]
    }
   ],
   "source": [
    "ds_name = \"mnist\"\n",
    "print(f\"Benchmarking: {ds_name} dataset\")\n",
    "\n",
    "num_features = 784\n",
    "num_classes = 10\n",
    "print(f\"    > {num_features} features\")\n",
    "print(f\"    > {num_classes} classes\")\n",
    "\n",
    "# Loading the dataset :\n",
    "source_data, labels = gl.datasets.load(\"mnist\")\n",
    "\n",
    "N = source_data.shape[0]"
   ]
  },
  {
   "cell_type": "markdown",
   "metadata": {},
   "source": [
    "## Subsampling the dataset"
   ]
  },
  {
   "cell_type": "code",
   "execution_count": 8,
   "metadata": {},
   "outputs": [
    {
     "name": "stdout",
     "output_type": "stream",
     "text": [
      "    > Running on a subsample of 2000 Nodes\n"
     ]
    }
   ],
   "source": [
    "subsample_size = 2000\n",
    "N = subsample_size\n",
    "print(f\"    > Running on a subsample of {subsample_size} Nodes\")\n",
    "indices = np.arange(0, source_data.shape[0], 1, dtype=int)\n",
    "np.random.shuffle(indices)\n",
    "chosen_indices = indices[:subsample_size]\n",
    "source_data = source_data[chosen_indices, :]\n",
    "labels = labels[chosen_indices]\n",
    "\n",
    "K_range = [i for i in range(10,101,10)]\n",
    "N_EPOCHS = 100"
   ]
  },
  {
   "cell_type": "markdown",
   "metadata": {},
   "source": [
    "## Full graph"
   ]
  },
  {
   "cell_type": "code",
   "execution_count": 9,
   "metadata": {},
   "outputs": [],
   "source": [
    "#stats for the full graph\n",
    "full_graph_training_time = np.zeros(len(K_range))\n",
    "full_graph_training_time_per_epoch = np.zeros(len(K_range))\n",
    "full_graph_accuracies = np.zeros(((len(K_range), N_EPOCHS)))\n",
    "full_graph_best_accuracies = np.zeros(len(K_range))\n",
    "full_graph_num_edges = np.zeros(len(K_range))\n",
    "full_graph_sparsification_time = np.zeros(len(K_range))"
   ]
  },
  {
   "cell_type": "code",
   "execution_count": 11,
   "metadata": {},
   "outputs": [
    {
     "name": "stdout",
     "output_type": "stream",
     "text": [
      "contructing the knn weightmatrix for k = 10...\n",
      "done in 0.8004\n",
      "the graph has 14536 edges\n",
      "Epoch: 001, Loss: 2.3620, Train: 0.2880, Test: 0.2940\n",
      "Epoch: 010, Loss: 0.9971, Train: 0.7460, Test: 0.7040\n",
      "Epoch: 020, Loss: 0.6323, Train: 0.8770, Test: 0.8410\n",
      "Epoch: 030, Loss: 0.4624, Train: 0.8910, Test: 0.8760\n",
      "Epoch: 040, Loss: 0.4207, Train: 0.8990, Test: 0.8830\n",
      "Epoch: 050, Loss: 0.3971, Train: 0.9060, Test: 0.8860\n",
      "Epoch: 060, Loss: 0.3504, Train: 0.9150, Test: 0.8930\n",
      "Epoch: 070, Loss: 0.3195, Train: 0.9140, Test: 0.9000\n",
      "Epoch: 080, Loss: 0.2953, Train: 0.9170, Test: 0.8970\n",
      "Epoch: 090, Loss: 0.2755, Train: 0.9160, Test: 0.8970\n",
      "Epoch: 100, Loss: 0.2932, Train: 0.9230, Test: 0.9050\n",
      "contructing the knn weightmatrix for k = 20...\n",
      "done in 0.8070\n",
      "the graph has 28840 edges\n",
      "Epoch: 001, Loss: 2.3233, Train: 0.3570, Test: 0.3650\n",
      "Epoch: 010, Loss: 1.0967, Train: 0.7230, Test: 0.7110\n",
      "Epoch: 020, Loss: 0.6789, Train: 0.8230, Test: 0.8180\n",
      "Epoch: 030, Loss: 0.4722, Train: 0.8660, Test: 0.8550\n",
      "Epoch: 040, Loss: 0.4259, Train: 0.8810, Test: 0.8700\n",
      "Epoch: 050, Loss: 0.4052, Train: 0.8980, Test: 0.8790\n",
      "Epoch: 060, Loss: 0.4035, Train: 0.9090, Test: 0.8840\n",
      "Epoch: 070, Loss: 0.3536, Train: 0.9040, Test: 0.8820\n",
      "Epoch: 080, Loss: 0.3358, Train: 0.9170, Test: 0.8870\n",
      "Epoch: 090, Loss: 0.3339, Train: 0.9130, Test: 0.8910\n",
      "Epoch: 100, Loss: 0.3239, Train: 0.9180, Test: 0.8840\n",
      "contructing the knn weightmatrix for k = 30...\n",
      "done in 0.8143\n",
      "the graph has 43182 edges\n",
      "Epoch: 001, Loss: 2.3478, Train: 0.1650, Test: 0.1630\n",
      "Epoch: 010, Loss: 1.3618, Train: 0.5870, Test: 0.5630\n",
      "Epoch: 020, Loss: 0.8041, Train: 0.7890, Test: 0.7580\n",
      "Epoch: 030, Loss: 0.6372, Train: 0.8260, Test: 0.7930\n",
      "Epoch: 040, Loss: 0.5767, Train: 0.8570, Test: 0.8190\n",
      "Epoch: 050, Loss: 0.5182, Train: 0.8620, Test: 0.8210\n",
      "Epoch: 060, Loss: 0.4739, Train: 0.8720, Test: 0.8290\n",
      "Epoch: 070, Loss: 0.4629, Train: 0.8810, Test: 0.8360\n",
      "Epoch: 080, Loss: 0.4361, Train: 0.8690, Test: 0.8390\n",
      "Epoch: 090, Loss: 0.4304, Train: 0.8810, Test: 0.8520\n",
      "Epoch: 100, Loss: 0.3965, Train: 0.8920, Test: 0.8500\n",
      "contructing the knn weightmatrix for k = 40...\n",
      "done in 0.8353\n",
      "the graph has 57426 edges\n",
      "Epoch: 001, Loss: 2.3369, Train: 0.2360, Test: 0.2070\n",
      "Epoch: 010, Loss: 1.0436, Train: 0.6940, Test: 0.6910\n",
      "Epoch: 020, Loss: 0.6981, Train: 0.7830, Test: 0.7940\n",
      "Epoch: 030, Loss: 0.6028, Train: 0.8200, Test: 0.8310\n",
      "Epoch: 040, Loss: 0.5553, Train: 0.8380, Test: 0.8350\n",
      "Epoch: 050, Loss: 0.5010, Train: 0.8450, Test: 0.8390\n",
      "Epoch: 060, Loss: 0.5002, Train: 0.8580, Test: 0.8520\n",
      "Epoch: 070, Loss: 0.4958, Train: 0.8540, Test: 0.8470\n",
      "Epoch: 080, Loss: 0.4682, Train: 0.8630, Test: 0.8420\n",
      "Epoch: 090, Loss: 0.4469, Train: 0.8760, Test: 0.8650\n",
      "Epoch: 100, Loss: 0.4284, Train: 0.8720, Test: 0.8540\n",
      "contructing the knn weightmatrix for k = 50...\n",
      "done in 0.9560\n",
      "the graph has 71723 edges\n",
      "Epoch: 001, Loss: 2.3262, Train: 0.2210, Test: 0.2310\n",
      "Epoch: 010, Loss: 1.4063, Train: 0.5850, Test: 0.5920\n",
      "Epoch: 020, Loss: 0.8775, Train: 0.7300, Test: 0.7330\n",
      "Epoch: 030, Loss: 0.7128, Train: 0.7790, Test: 0.7880\n",
      "Epoch: 040, Loss: 0.6100, Train: 0.8140, Test: 0.8120\n",
      "Epoch: 050, Loss: 0.5618, Train: 0.8400, Test: 0.8220\n",
      "Epoch: 060, Loss: 0.5269, Train: 0.8330, Test: 0.8150\n",
      "Epoch: 070, Loss: 0.4852, Train: 0.8500, Test: 0.8360\n",
      "Epoch: 080, Loss: 0.4815, Train: 0.8600, Test: 0.8420\n",
      "Epoch: 090, Loss: 0.4726, Train: 0.8560, Test: 0.8500\n",
      "Epoch: 100, Loss: 0.4341, Train: 0.8640, Test: 0.8530\n",
      "contructing the knn weightmatrix for k = 60...\n",
      "done in 1.1428\n",
      "the graph has 85425 edges\n",
      "Epoch: 001, Loss: 2.3410, Train: 0.2330, Test: 0.2390\n",
      "Epoch: 010, Loss: 1.3887, Train: 0.5650, Test: 0.5720\n",
      "Epoch: 020, Loss: 0.9013, Train: 0.7130, Test: 0.7190\n",
      "Epoch: 030, Loss: 0.6844, Train: 0.7810, Test: 0.7940\n",
      "Epoch: 040, Loss: 0.6471, Train: 0.7900, Test: 0.8140\n",
      "Epoch: 050, Loss: 0.5832, Train: 0.8050, Test: 0.8190\n",
      "Epoch: 060, Loss: 0.5623, Train: 0.8170, Test: 0.8360\n",
      "Epoch: 070, Loss: 0.5460, Train: 0.8230, Test: 0.8370\n",
      "Epoch: 080, Loss: 0.4920, Train: 0.8380, Test: 0.8480\n",
      "Epoch: 090, Loss: 0.5193, Train: 0.8330, Test: 0.8420\n",
      "Epoch: 100, Loss: 0.4918, Train: 0.8480, Test: 0.8460\n",
      "contructing the knn weightmatrix for k = 70...\n",
      "done in 1.1206\n",
      "the graph has 99761 edges\n",
      "Epoch: 001, Loss: 2.3243, Train: 0.1180, Test: 0.1310\n",
      "Epoch: 010, Loss: 1.4051, Train: 0.5710, Test: 0.5820\n",
      "Epoch: 020, Loss: 0.9278, Train: 0.7340, Test: 0.7100\n",
      "Epoch: 030, Loss: 0.7495, Train: 0.7610, Test: 0.7510\n",
      "Epoch: 040, Loss: 0.6941, Train: 0.7840, Test: 0.7810\n",
      "Epoch: 050, Loss: 0.6399, Train: 0.8080, Test: 0.7870\n",
      "Epoch: 060, Loss: 0.6157, Train: 0.8350, Test: 0.8170\n",
      "Epoch: 070, Loss: 0.5719, Train: 0.8260, Test: 0.8190\n",
      "Epoch: 080, Loss: 0.5455, Train: 0.8350, Test: 0.8210\n",
      "Epoch: 090, Loss: 0.5094, Train: 0.8360, Test: 0.8220\n",
      "Epoch: 100, Loss: 0.5167, Train: 0.8310, Test: 0.8140\n",
      "contructing the knn weightmatrix for k = 80...\n",
      "done in 1.1270\n",
      "the graph has 113955 edges\n",
      "Epoch: 001, Loss: 2.2896, Train: 0.3280, Test: 0.3270\n",
      "Epoch: 010, Loss: 1.4453, Train: 0.5490, Test: 0.5150\n",
      "Epoch: 020, Loss: 1.0614, Train: 0.6660, Test: 0.6470\n",
      "Epoch: 030, Loss: 0.8155, Train: 0.7420, Test: 0.7320\n",
      "Epoch: 040, Loss: 0.6881, Train: 0.7790, Test: 0.7770\n",
      "Epoch: 050, Loss: 0.6201, Train: 0.7910, Test: 0.7920\n",
      "Epoch: 060, Loss: 0.5829, Train: 0.8020, Test: 0.7910\n",
      "Epoch: 070, Loss: 0.5669, Train: 0.8130, Test: 0.8100\n",
      "Epoch: 080, Loss: 0.5700, Train: 0.8240, Test: 0.7990\n",
      "Epoch: 090, Loss: 0.5573, Train: 0.8190, Test: 0.7980\n",
      "Epoch: 100, Loss: 0.5288, Train: 0.8410, Test: 0.8140\n",
      "contructing the knn weightmatrix for k = 90...\n",
      "done in 1.1668\n",
      "the graph has 128230 edges\n",
      "Epoch: 001, Loss: 2.3436, Train: 0.1250, Test: 0.1300\n",
      "Epoch: 010, Loss: 1.2967, Train: 0.6020, Test: 0.6070\n",
      "Epoch: 020, Loss: 0.9052, Train: 0.6920, Test: 0.7210\n",
      "Epoch: 030, Loss: 0.7862, Train: 0.7480, Test: 0.7760\n",
      "Epoch: 040, Loss: 0.7404, Train: 0.7600, Test: 0.7990\n",
      "Epoch: 050, Loss: 0.7111, Train: 0.7890, Test: 0.8160\n",
      "Epoch: 060, Loss: 0.6800, Train: 0.8110, Test: 0.8220\n",
      "Epoch: 070, Loss: 0.6564, Train: 0.7990, Test: 0.8270\n",
      "Epoch: 080, Loss: 0.6156, Train: 0.8050, Test: 0.8210\n",
      "Epoch: 090, Loss: 0.6012, Train: 0.8230, Test: 0.8350\n",
      "Epoch: 100, Loss: 0.6029, Train: 0.8090, Test: 0.8210\n"
     ]
    }
   ],
   "source": [
    "for k_idx, k in enumerate(K_range):\n",
    "    print(f\"contructing the knn weightmatrix for k = {k}...\")\n",
    "    start_knn_weight_matrix_time = time.time()\n",
    "    knn_weight_matrix = gl.weightmatrix.knn(source_data, k=k)\n",
    "    knn_weight_matrix_time = time.time() - start_knn_weight_matrix_time\n",
    "    full_graph_sparsification_time[k_idx] = knn_weight_matrix_time \n",
    "    print(f\"done in {knn_weight_matrix_time:.4f}\")\n",
    "    print(f\"the graph has {get_num_edges_from_adj_matrix(knn_weight_matrix.toarray())} edges\")       \n",
    "    full_graph_num_edges[k_idx] = get_num_edges_from_adj_matrix(knn_weight_matrix.toarray()) \n",
    "    train_mask, test_mask = generate_train_and_test_mask(N)\n",
    "    \n",
    "    full_graph_x = torch.tensor(source_data, dtype=torch.float)\n",
    "    full_graph_y = torch.tensor(labels, dtype=torch.long)\n",
    "    full_graph_edge_index = (\n",
    "        torch.tensor(knn_weight_matrix.toarray()).nonzero().t().contiguous()\n",
    "    )\n",
    "    full_graph_data = Data(x=full_graph_x, edge_index=full_graph_edge_index, y=full_graph_y).to(device)\n",
    "    # NOTE: des num_nodes update after having cut the dataset to get the subsample ?\n",
    "    full_graph_model = GCN(num_features, 16, num_classes).to(device)\n",
    "    \n",
    "    full_graph_optimizer = torch.optim.Adam([\n",
    "        dict(params=full_graph_model.conv1.parameters(), weight_decay=5e-4),\n",
    "        dict(params=full_graph_model.conv2.parameters(), weight_decay=0)\n",
    "    ], lr=0.01)  # Only perform weight-decay on first convolution.\n",
    "    \n",
    "    best_val_acc, accs, median_time_per_epoch, overall_time = eval_model(full_graph_model, \n",
    "                                                                            full_graph_data,\n",
    "                                                                            train_mask,\n",
    "                                                                            test_mask, \n",
    "                                                                            full_graph_optimizer,\n",
    "                                                                            N_EPOCHS)"
   ]
  },
  {
   "cell_type": "markdown",
   "metadata": {},
   "source": [
    "# Spectral Sparsified Graph"
   ]
  },
  {
   "cell_type": "code",
   "execution_count": 12,
   "metadata": {},
   "outputs": [],
   "source": [
    "#stats for the spectral sparsification\n",
    "spectral_training_time = np.zeros(len(K_range))\n",
    "spectral_graph_training_time_per_epoch = np.zeros(len(K_range))\n",
    "spectral_accuracies = np.zeros(((len(K_range), N_EPOCHS))) \n",
    "spectral_best_accuracies = np.zeros(len(K_range))\n",
    "spectral_num_edges = np.zeros(len(K_range))\n",
    "spectral_sparsification_time = np.zeros(len(K_range))"
   ]
  },
  {
   "cell_type": "code",
   "execution_count": null,
   "metadata": {},
   "outputs": [],
   "source": [
    "print(f\"constructing the spectral sparisfied graph using effective resistance\")\n",
    "start_spectral_sparsify = time.time() \n",
    "spectral_sparse_knn_weight_matrix = spectral_sparsify(np.nan_to_num((1/knn_weight_matrix.todense())-1, posinf = 0, neginf = 0))\n",
    "spectral_sparsify_time = time.time() - start_spectral_sparsify\n",
    "print(f\"done in {spectral_sparsify_time:.4f}s\")\n",
    "spectral_sparsification_time[k_idx] = spectral_sparsify_time\n",
    "spectral_num_edges[k_idx] = get_num_edges(spectral_sparse_knn_weight_matrix.toarray())\n",
    "\n",
    "\n",
    "    \n",
    "print(f'-------------------------- Running the model Spectral sparsified |E| = {spectral_num_edges[k_idx]}, with K = {k} --------------------------')\n",
    "# Running the model on the spectral sparsified graph\n",
    "spectral_x = torch.tensor(source_data, dtype=torch.float)\n",
    "spectral_y = torch.tensor(labels, dtype=torch.long)\n",
    "spectral_edge_index = (\n",
    "    torch.tensor(spectral_sparse_knn_weight_matrix.toarray()).nonzero().t().contiguous()\n",
    ")\n",
    "spectral_data = Data(x=spectral_x, edge_index=spectral_edge_index, y=spectral_y).to(device)\n",
    "# NOTE: des num_nodes update after having cut the dataset to get the subsample ?\n",
    "spectral_model = GCN(num_features, 16, num_classes).to(device)\n",
    "\n",
    "spectral_optimizer = torch.optim.Adam([\n",
    "    dict(params=spectral_model.conv1.parameters(), weight_decay=5e-4),\n",
    "    dict(params=spectral_model.conv2.parameters(), weight_decay=0)\n",
    "], lr=0.01)  # Only perform weight-decay on first convolution.\n",
    "\n",
    "best_val_acc, accs, median_time_per_epoch, overall_time = eval_model(spectral_model, \n",
    "                                                                        spectral_data,\n",
    "                                                                        train_mask,\n",
    "                                                                        test_mask, \n",
    "                                                                        spectral_optimizer,\n",
    "                                                                        N_EPOCHS)"
   ]
  }
 ],
 "metadata": {
  "kernelspec": {
   "display_name": "base",
   "language": "python",
   "name": "python3"
  },
  "language_info": {
   "codemirror_mode": {
    "name": "ipython",
    "version": 3
   },
   "file_extension": ".py",
   "mimetype": "text/x-python",
   "name": "python",
   "nbconvert_exporter": "python",
   "pygments_lexer": "ipython3",
   "version": "3.11.4"
  }
 },
 "nbformat": 4,
 "nbformat_minor": 2
}
